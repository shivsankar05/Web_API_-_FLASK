{
  "nbformat": 4,
  "nbformat_minor": 0,
  "metadata": {
    "colab": {
      "provenance": []
    },
    "kernelspec": {
      "name": "python3",
      "display_name": "Python 3"
    },
    "language_info": {
      "name": "python"
    }
  },
  "cells": [
    {
      "cell_type": "markdown",
      "source": [
        "1.What is Web API?"
      ],
      "metadata": {
        "id": "x2UtfeLykGUC"
      }
    },
    {
      "cell_type": "markdown",
      "source": [
        "A web API is an application programming interface (API) for either a web server or a web browser. As a web development concept, it can be related to a web application's client side (including any web frameworks being used)."
      ],
      "metadata": {
        "id": "iQQEnSgVkYZU"
      }
    },
    {
      "cell_type": "markdown",
      "source": [
        "2.How does a Web API differ from a web service?"
      ],
      "metadata": {
        "id": "ueXzRs9hkiS1"
      }
    },
    {
      "cell_type": "markdown",
      "source": [
        "In Short, API allows the application to communicate while web service allows the system to communicate with each other. The difference between web services vs API can help to understand each of them clearly."
      ],
      "metadata": {
        "id": "tVe0xv_Kk-Ab"
      }
    },
    {
      "cell_type": "markdown",
      "source": [
        " 3. What are the benefits of using Web APIs in software development?"
      ],
      "metadata": {
        "id": "spKMW27gk_5H"
      }
    },
    {
      "cell_type": "markdown",
      "source": [
        "APIs facilitate seamless integration between web applications and external services. Acting as a bridge, APIs allow developers access to data and functionality from third parties. This empowers applications to provide enriched, personalized experiences – for instance, a weather app retrieving real-time data via API"
      ],
      "metadata": {
        "id": "ARidDBnhlzVB"
      }
    },
    {
      "cell_type": "markdown",
      "source": [
        "4. Explain the difference between SOAP And Restful APIs"
      ],
      "metadata": {
        "id": "LQ558JqLl-bP"
      }
    },
    {
      "cell_type": "markdown",
      "source": [
        "SOAP and REST are two different approaches to API design. The SOAP approach is highly structured and uses XML data format. REST is more flexible and allows applications to exchange data in multiple formats."
      ],
      "metadata": {
        "id": "RWqbzuC2mjRo"
      }
    },
    {
      "cell_type": "markdown",
      "source": [
        "5. What is JSON and how is it commonly used in eb APIs"
      ],
      "metadata": {
        "id": "TunzVEY5mlfO"
      }
    },
    {
      "cell_type": "markdown",
      "source": [
        "JSON (JavaScript Object Notation) is commonly used for data storage and transfer. JSON is a popular choice for applications that benefit from a simple and easy-to-use data format. XML (Extensible Markup Language) is a general-purpose markup language similar to JSON that allows for more complex data structures"
      ],
      "metadata": {
        "id": "v2WRBWsknRF4"
      }
    },
    {
      "cell_type": "markdown",
      "source": [
        "6. Can you name some popular Web API protocols other than REST?"
      ],
      "metadata": {
        "id": "rUqCFKbmnTKj"
      }
    },
    {
      "cell_type": "markdown",
      "source": [
        "SOAP APIs. The Simple Object Access Protocol (SOAP) is another major API protocol. A SOAP API can communicate over other major internet communication protocols, such as TCP and SMTP, in addition to HTTP. In that regard, it is more flexible than REST, but in most ways, SOAP is more restrictive."
      ],
      "metadata": {
        "id": "cYTmuTTdn269"
      }
    },
    {
      "cell_type": "markdown",
      "source": [
        "7.What role do HTTP methods(GET,POST,PUT,DELETE,etc)play in web API Developement."
      ],
      "metadata": {
        "id": "ehqMbQfin5PX"
      }
    },
    {
      "cell_type": "markdown",
      "source": [
        "GET. The GET method is used to retrieve data on a server. ...\n",
        "POST. The POST method is used to create new resources. ...\n",
        "PUT. The PUT method is used to replace an existing resource with an updated version. ...\n",
        "PATCH. The PATCH method is used to update an existing resource. ...\n",
        "DELETE\n"
      ],
      "metadata": {
        "id": "w2C_nBIUobdq"
      }
    },
    {
      "cell_type": "markdown",
      "source": [
        "8. What is the purpose of authentication and authorization in Web API ?"
      ],
      "metadata": {
        "id": "htO0Xx1iorQv"
      }
    },
    {
      "cell_type": "markdown",
      "source": [
        "Data security: By requiring authentication and authorization, APIs can ensure that only authorized users or applications are able to access sensitive data. This helps protect sensitive data from unauthorized access, theft, or misuse."
      ],
      "metadata": {
        "id": "VDln10QXpbVp"
      }
    },
    {
      "cell_type": "markdown",
      "source": [
        "9. How can you Handle versioning in web API Development?"
      ],
      "metadata": {
        "id": "34_mE2Jxpdin"
      }
    },
    {
      "cell_type": "markdown",
      "source": [
        "Different Methods of API Versioning & Routing in ASP.Net Core\n",
        "Setup.\n",
        "Versioning with URL Routing.\n",
        "Versioning using HTTP Header.\n",
        "Versioning using the Query parameter.\n",
        "Deprecating API Version.\n",
        "Routing in Web API.\n",
        "Attribute Routing."
      ],
      "metadata": {
        "id": "97P0-LGcqOdB"
      }
    },
    {
      "cell_type": "markdown",
      "source": [
        "10. What are the main components of an HTTP request response in the context of Web APIs?"
      ],
      "metadata": {
        "id": "NlhlGhrgqPoH"
      }
    },
    {
      "cell_type": "markdown",
      "source": [
        "API Response\n",
        "It will contain status codes, response headers, and usually response data. Common response codes like 200 OK, 404 Not Found, and 500 Server Error indicate the outcome. The headers provide metadata like pagination. The body contains the returned information in JSON, XML, HTML, or other formats."
      ],
      "metadata": {
        "id": "Wixua_5Bq7Vp"
      }
    },
    {
      "cell_type": "markdown",
      "source": [
        "11. Describe concept of rate limiting in the context of Web APIs."
      ],
      "metadata": {
        "id": "ckv0MSwOq9KA"
      }
    },
    {
      "cell_type": "markdown",
      "source": [
        "API rate limiting is, in a nutshell, limiting access for people (and bots) to access the API based on the rules/policies set by the API's operator or owner. We can think of rate limiting as a form of both security and quality control. This is why rate limiting is integral for any API product's growth and scalability."
      ],
      "metadata": {
        "id": "6pcUkPCdrldc"
      }
    },
    {
      "cell_type": "markdown",
      "source": [
        "12. How you can handle errors and expections in Web API Responses?"
      ],
      "metadata": {
        "id": "n2vMj7kRrneg"
      }
    },
    {
      "cell_type": "markdown",
      "source": [
        "You can customize how Web API handles exceptions by writing an exception filter. An exception filter is executed when a controller method throws any unhandled exception that is not an HttpResponseException exception."
      ],
      "metadata": {
        "id": "6KZ7oiEysJpj"
      }
    },
    {
      "cell_type": "markdown",
      "source": [
        "13. explain the concept of statelessness in restful web APIs."
      ],
      "metadata": {
        "id": "pPlsn9KksL26"
      }
    },
    {
      "cell_type": "markdown",
      "source": [
        "Statelessness. In REST architecture, statelessness refers to a communication method in which the server completes every client request independently of all previous requests. Clients can request resources in any order, and every request is stateless or isolated from other requests."
      ],
      "metadata": {
        "id": "UyEOXz2Msk3d"
      }
    },
    {
      "cell_type": "markdown",
      "source": [
        "14. What are the best practices for designing and docomenting WEB APIs?"
      ],
      "metadata": {
        "id": "UQBK0icgslyw"
      }
    },
    {
      "cell_type": "markdown",
      "source": [
        "Get started with API design\n",
        "Characteristics of a well designed API.\n",
        "Collections Resources and their URLs. Understanding resources and collections. Nouns describe URLs better. ...\n",
        "Responses. Give feedback to help developers succeed. Give examples for all your GET responses.\n",
        "Requests. Handle complexity elegantly."
      ],
      "metadata": {
        "id": "4XQ9NZLXthGe"
      }
    },
    {
      "cell_type": "markdown",
      "source": [
        "15. What role do API Keys and tokens play in securing Web APIs."
      ],
      "metadata": {
        "id": "mF2Z7gk2ti_Z"
      }
    },
    {
      "cell_type": "markdown",
      "source": [
        "API Keys: API keys are simple tokens that identify the calling program. They are commonly used for authenticating clients to the API. However, API keys alone may not be sufficient for securing sensitive operations, making the integration of OAuth 2.0 essential for a robust security strategy."
      ],
      "metadata": {
        "id": "hqvr1ULtuShJ"
      }
    },
    {
      "cell_type": "markdown",
      "source": [
        "16. What is REST, and what are it's key principle?"
      ],
      "metadata": {
        "id": "oSLQG7WYuUx8"
      }
    },
    {
      "cell_type": "markdown",
      "source": [
        "The key principles of REST APIs include statelessness, uniform interface, resource-based architecture, self-descriptive messages, and hypermedia as the engine of application state (HATEOAS)."
      ],
      "metadata": {
        "id": "DXgqnisyusI3"
      }
    },
    {
      "cell_type": "markdown",
      "source": [
        "17. What are the difference between RESTful APIs and traditional web service?"
      ],
      "metadata": {
        "id": "ZshZXTqzuuKo"
      }
    },
    {
      "cell_type": "markdown",
      "source": [
        "Protocol Flexibility: RESTful APIs predominantly operate via HTTP requests. In contrast, traditional APIs can operate over multiple protocols, not restricted to HTTP. State Management: RESTful APIs champion statelessness, ensuring each request remains independent without relying on prior or future requests.\n"
      ],
      "metadata": {
        "id": "Cw39thG_vUg9"
      }
    },
    {
      "cell_type": "markdown",
      "source": [
        "18. What are the main HTTP methods used in RESTful architecture,What are their purpose?"
      ],
      "metadata": {
        "id": "C0JAhfojvV4v"
      }
    },
    {
      "cell_type": "markdown",
      "source": [
        "HTTP methods such as GET, POST, PUT, PATCH, and DELETE are used in RESTful API development to specify the type of action being performed on a resource. RESTful HTTP methods are an essential component of developing web APIs in the REST architectural style."
      ],
      "metadata": {
        "id": "le3AWEGMwW8c"
      }
    },
    {
      "cell_type": "markdown",
      "source": [
        "19. Describe the concept of statelessness in restful  APIs."
      ],
      "metadata": {
        "id": "fVlQF8c-wYzh"
      }
    },
    {
      "cell_type": "markdown",
      "source": [
        "Statelessness. In REST architecture, statelessness refers to a communication method in which the server completes every client request independently of all previous requests. Clients can request resources in any order, and every request is stateless or isolated from other requests"
      ],
      "metadata": {
        "id": "LyDJQCjLw-r7"
      }
    },
    {
      "cell_type": "markdown",
      "source": [
        "20. What is the significance of URIs (Uniforms Resourse identifiers) in restful APIb Design."
      ],
      "metadata": {
        "id": "h5kovdvBxCHD"
      }
    },
    {
      "cell_type": "markdown",
      "source": [
        "In the context of REST API, URIs are a means to indicate the location of a resource that is to be accessed or manipulated. URIs are used to identify and specify resources such as images, documents, data entities, or even web services."
      ],
      "metadata": {
        "id": "Su4qhTGEx2lj"
      }
    },
    {
      "cell_type": "markdown",
      "source": [
        "21. Explain the role of hypermedia in RESTful APIs. How does it relate to HATEOAS?"
      ],
      "metadata": {
        "id": "hcPKRN8Ix3m6"
      }
    },
    {
      "cell_type": "markdown",
      "source": [
        "Hypermedia as the engine of application state (HATEOAS) is a constraint of the REST software architectural style that distinguishes it from other network architectural styles. With HATEOAS, a client interacts with a network application whose application servers provide information dynamically through hypermedia"
      ],
      "metadata": {
        "id": "03KylQckyoek"
      }
    },
    {
      "cell_type": "markdown",
      "source": [
        "22. What are the benefits of using RESTful APIs over other architectural styles?"
      ],
      "metadata": {
        "id": "ngLd2XkQyqqM"
      }
    },
    {
      "cell_type": "markdown",
      "source": [
        "RESTful APIs include the following benefits:\n",
        "Scalability. Systems that implement REST APIs can scale efficiently because REST optimizes client-server interactions. ...\n",
        "Flexibility. RESTful web services support total client-server separation. ...\n",
        "Independence. REST APIs are independent of the technology used."
      ],
      "metadata": {
        "id": "X8DfCP3BzmYl"
      }
    },
    {
      "cell_type": "markdown",
      "source": [
        "23. Discuss the concept of resource in representions in RESTful APIs?"
      ],
      "metadata": {
        "id": "Fo5Kd-6qzofS"
      }
    },
    {
      "cell_type": "markdown",
      "source": [
        "In REST, a resource is a fundamental building block that represents a specific item of data, such as a user, a product, or an order. Resources are identified by URIs (Uniform Resource Identifiers), which are unique addresses that can be used to access and manipulate the resource."
      ],
      "metadata": {
        "id": "nT463nLD0PJO"
      }
    },
    {
      "cell_type": "markdown",
      "source": [
        "24. How does REST handle comunication between clients and servers?"
      ],
      "metadata": {
        "id": "m1sakIW_0RZ9"
      }
    },
    {
      "cell_type": "markdown",
      "source": [
        "In the REST architecture, clients send requests to the server to retrieve or modify data, and servers send responses to their requests to clients."
      ],
      "metadata": {
        "id": "YSwGJ4oV1j-a"
      }
    },
    {
      "cell_type": "markdown",
      "source": [
        "25. What are the common data formats used in RESTful API comunoication?"
      ],
      "metadata": {
        "id": "pQBak3eC1pJQ"
      }
    },
    {
      "cell_type": "markdown",
      "source": [
        "REST APIs support many different data formats, including JSON, XML and plain text. Developers can choose the data format that best suits client needs and available server-side data."
      ],
      "metadata": {
        "id": "qOsYl6y62JdL"
      }
    },
    {
      "cell_type": "markdown",
      "source": [
        "26. Explain  the importance status codes in RESTful APIs Response."
      ],
      "metadata": {
        "id": "BmppgR1t2TIp"
      }
    },
    {
      "cell_type": "markdown",
      "source": [
        "HTTP status codes play a crucial role in REST-based APIs. These codes, which are three-digit numbers returned by a server in response to an HTTP request, indicate the status of the requested operation and provide important information about how the client should proceed."
      ],
      "metadata": {
        "id": "s8-cNIFa20r0"
      }
    },
    {
      "cell_type": "markdown",
      "source": [
        "27. Describe the process of versioning in RESTfulm API development."
      ],
      "metadata": {
        "id": "XlRfr19l27_6"
      }
    },
    {
      "cell_type": "markdown",
      "source": [
        "REST API versioning is akin to a safety net in software development. At its essence, it's the practice of introducing and managing different stages or “versions” of an API without disrupting its existing users. As software evolves, so do its requirements and functionalities."
      ],
      "metadata": {
        "id": "ZGgQl4wZ3qdD"
      }
    },
    {
      "cell_type": "markdown",
      "source": [
        "28. How can you ensure security in restful API developement?"
      ],
      "metadata": {
        "id": "4NlhJg2nvf3B"
      }
    },
    {
      "cell_type": "markdown",
      "source": [
        "The top five ways to build security into a REST API design are:\n",
        "Always use TLS encryption.\n",
        "Implement a sound and scalable authentication and authorization model.\n",
        "Don't include sensitive information in URLs.\n",
        "Narrowly define allowed RESTful API requests and responses.\n",
        "Implement continuous API discovery capabilities."
      ],
      "metadata": {
        "id": "ABB_1MAgv7Cs"
      }
    },
    {
      "cell_type": "markdown",
      "source": [
        "29.What are some best practices for documenting RESTful APIs?"
      ],
      "metadata": {
        "id": "aThmUVvPv95l"
      }
    },
    {
      "cell_type": "markdown",
      "source": [
        "Swagger, for example, generates documentation based on your API definition and makes it possible to create the definition if you haven't already. Swagger also features an advanced versioning system that makes it very easy to track all API iterations within your REST API document."
      ],
      "metadata": {
        "id": "SI50AaTAwi2K"
      }
    },
    {
      "cell_type": "markdown",
      "source": [
        "30. What considerations should be made for error handling in RESTful APIs?"
      ],
      "metadata": {
        "id": "YYc8P16CwkSd"
      }
    },
    {
      "cell_type": "markdown",
      "source": [
        "Error handling for REST\n",
        "Use HTTP status codes properly: REST APIs rely heavily on standard HTTP status codes to communicate the nature of an error. ...\n",
        "Provide enough detail in error messages: REST is stateless in nature. ...\n",
        "Use a standardized error response format: Maintain a consistent standard for error messages"
      ],
      "metadata": {
        "id": "KWfmgMdIxS4x"
      }
    },
    {
      "cell_type": "markdown",
      "source": [
        "31. What is SOAP,How does it differ from REST?"
      ],
      "metadata": {
        "id": "PM7IDMX5xVW0"
      }
    },
    {
      "cell_type": "markdown",
      "source": [
        "SOAP and REST are two different approaches to API design. The SOAP approach is highly structured and uses XML data format. REST is more flexible and allows applications to exchange data in multiple formats."
      ],
      "metadata": {
        "id": "rPpKhCSVxwHl"
      }
    },
    {
      "cell_type": "markdown",
      "source": [
        "32. Describe the structure of a soap message?"
      ],
      "metadata": {
        "id": "CVLIYUQ4xxG-"
      }
    },
    {
      "cell_type": "markdown",
      "source": [
        "A SOAP message is encoded as an XML document, consisting of an <Envelope> element, which contains an optional <Header> element, and a mandatory <Body> element. The <Fault> element, contained in <Body> , is used for reporting errors."
      ],
      "metadata": {
        "id": "FReNQDmRyMbU"
      }
    },
    {
      "cell_type": "markdown",
      "source": [
        "33. How does SOAP handle communication between clients and servers?"
      ],
      "metadata": {
        "id": "sGmweGiGyOrb"
      }
    },
    {
      "cell_type": "markdown",
      "source": [
        "Strictly speaking, SOAP server and client communicate using XML. Although Domain Object and XML are mutually converted using JAXB during sending and receiving, SOAP Web Service creator can carry out development without being aware of XML"
      ],
      "metadata": {
        "id": "Jybar799yz1v"
      }
    },
    {
      "cell_type": "markdown",
      "source": [
        "34. What are the advantages and disadvantages of using SOAP-based WEB Services?"
      ],
      "metadata": {
        "id": "n24iKvS5y2UM"
      }
    },
    {
      "cell_type": "markdown",
      "source": [
        "\tSOAP\tREST\n",
        "Advantages\tHigh security, standardized, extensibility.\tScalability, better performance, browser-friendliness, flexibility.\n",
        "Disadvantages\tPoorer performance, more complexity, less flexibility.\tLess security, not suitable for distributed environments.\n"
      ],
      "metadata": {
        "id": "Nhjs8AhJzmNm"
      }
    },
    {
      "cell_type": "markdown",
      "source": [
        "35.How does SOAP ensure security in web service communication?"
      ],
      "metadata": {
        "id": "8p0gDER1zoNu"
      }
    },
    {
      "cell_type": "markdown",
      "source": [
        "Essentially, integrity is provided by generating an XML digital signature on the contents of the SOAP message. If the message data changes illegally, the signature would no longer be valid. XML encryption is applied to a SOAP message to ensure that only the intended recipient of the message can read the message."
      ],
      "metadata": {
        "id": "t2PHI2VL0VHq"
      }
    },
    {
      "cell_type": "markdown",
      "source": [
        "36. What is flask, and what makes it different from other web framework?"
      ],
      "metadata": {
        "id": "2RyHKdkm0XZd"
      }
    },
    {
      "cell_type": "markdown",
      "source": [
        "Flask is a micro web framework written in Python. It is classified as a microframework because it does not require particular tools or libraries. It has no database abstraction layer, form validation, or any other components where pre-existing third-party libraries provide common functions."
      ],
      "metadata": {
        "id": "iMpNql_X0_sD"
      }
    },
    {
      "cell_type": "markdown",
      "source": [
        "37.Describe the basic structure of a Flask application."
      ],
      "metadata": {
        "id": "zlTXdm9E1CW9"
      }
    },
    {
      "cell_type": "markdown",
      "source": [
        "Flask, the WSGI application, does all its internal processing to route the request to a view function, handle errors, etc. Flask translates View function return into WSGI response data, passes it to WSGI server. WSGI server creates and send an HTTP response. Client receives the HTTP response."
      ],
      "metadata": {
        "id": "bNZ5vU_J1hJY"
      }
    },
    {
      "cell_type": "markdown",
      "source": [
        "38. How do you install Flask in your local machine?"
      ],
      "metadata": {
        "id": "waWFZPXN1iaX"
      }
    },
    {
      "cell_type": "markdown",
      "source": [
        "Step 1: Install Virtual Environment. Install Flask in a virtual environment to avoid problems with conflicting libraries. ...\n",
        "Step 2: Create an Environment. Make a separate directory for your project: mkdir <project name> ...\n",
        "Step 3: Activate the Environment. ...\n",
        "Step 4: Install Flask. ...\n",
        "Step 5: Test the Development Environment"
      ],
      "metadata": {
        "id": "3JAE3GR02qAT"
      }
    },
    {
      "cell_type": "markdown",
      "source": [
        "39. Explain the concept of routing in flask."
      ],
      "metadata": {
        "id": "dUyFYiYK2wwf"
      }
    },
    {
      "cell_type": "markdown",
      "source": [
        "App routing is the technique used to map the specific URL with the associated function intended to perform some task. The Latest Web frameworks use the routing technique to help users remember application URLs. It is helpful to access the desired page directly without navigating from the home page"
      ],
      "metadata": {
        "id": "vzxqz2dX3HWy"
      }
    },
    {
      "cell_type": "markdown",
      "source": [
        "40. What are the flask templates,How are they used in web developement?"
      ],
      "metadata": {
        "id": "g1nQHKXg3JKH"
      }
    },
    {
      "cell_type": "markdown",
      "source": [
        "Templates are files that contain static data as well as placeholders for dynamic data. A template is rendered with specific data to produce a final document. Flask uses the Jinja template library to render templates. In your application, you will use templates to render HTML which will display in the user's browser.\n"
      ],
      "metadata": {
        "id": "Xb_vre3M331w"
      }
    },
    {
      "cell_type": "markdown",
      "source": [],
      "metadata": {
        "id": "4Od2408L378U"
      }
    }
  ]
}